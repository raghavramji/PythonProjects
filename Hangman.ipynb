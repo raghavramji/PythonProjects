{
 "cells": [
  {
   "cell_type": "code",
   "execution_count": null,
   "metadata": {},
   "outputs": [],
   "source": [
    "import random\n",
    "import sys\n",
    "from IPython.display import clear_output"
   ]
  },
  {
   "cell_type": "code",
   "execution_count": null,
   "metadata": {},
   "outputs": [],
   "source": [
    "# Creates a list of words(that the player will be guessing)"
   ]
  },
  {
   "cell_type": "code",
   "execution_count": null,
   "metadata": {},
   "outputs": [],
   "source": [
    "words = [\"house\", \"hello\", \"notebook\",\"bag\",\"falcon\"]"
   ]
  },
  {
   "cell_type": "code",
   "execution_count": 4,
   "metadata": {},
   "outputs": [],
   "source": [
    "# randomly picks a word from the list of words"
   ]
  },
  {
   "cell_type": "code",
   "execution_count": 5,
   "metadata": {},
   "outputs": [],
   "source": [
    "index = random.randint(0,len(words))"
   ]
  },
  {
   "cell_type": "code",
   "execution_count": 6,
   "metadata": {},
   "outputs": [],
   "source": [
    "secret = words[index]\n",
    "#print(secret)\n",
    "#print(len(secret))"
   ]
  },
  {
   "cell_type": "code",
   "execution_count": 7,
   "metadata": {},
   "outputs": [],
   "source": [
    "# print the secret word with \"_\" for the user (use sys.stdout.write to print on same line)"
   ]
  },
  {
   "cell_type": "code",
   "execution_count": 8,
   "metadata": {},
   "outputs": [],
   "source": [
    "# Create userguess list to store the characters in user's guess\n",
    "userguess = []\n",
    "\n",
    "for i in range(len(secret)):\n",
    "    userguess.append(\"_\")\n",
    "\n",
    "#print(userguess)\n",
    "#print(len(userguess))"
   ]
  },
  {
   "cell_type": "code",
   "execution_count": 9,
   "metadata": {},
   "outputs": [],
   "source": [
    "# Print the word to guess\n",
    "def print_in_style(userguess):\n",
    "    sys.stdout.write(\"Guess the word: \")\n",
    "\n",
    "    # Print the user's guess with space between characters\n",
    "    for i in range(len(userguess)):\n",
    "       sys.stdout.write(userguess[i] + \" \")\n",
    "    \n"
   ]
  },
  {
   "cell_type": "code",
   "execution_count": 10,
   "metadata": {},
   "outputs": [],
   "source": [
    "#function to search the user letter in the secret word and fill it in userguess\n",
    "def fill_function(c,word,userguess):    \n",
    "    for i in range(len(word)):\n",
    "        if c == word[i]:\n",
    "            userguess[i] = c\n",
    "    "
   ]
  },
  {
   "cell_type": "code",
   "execution_count": 11,
   "metadata": {},
   "outputs": [],
   "source": [
    "def match(secret, userguess):\n",
    "    for i in range(len(secret)):\n",
    "        if secret[i] != userguess[i]:\n",
    "            return 0\n",
    "    return 1\n",
    "          "
   ]
  },
  {
   "cell_type": "code",
   "execution_count": 12,
   "metadata": {},
   "outputs": [
    {
     "name": "stdout",
     "output_type": "stream",
     "text": [
      "Guess the word: _ _ _ a\n",
      "Guess the word: _ a _ m\n",
      " Strike:  1\n",
      "b\n",
      "Guess the word: b a _ g\n",
      "Guess the word: b a g \n",
      "Nice job!\n"
     ]
    }
   ],
   "source": [
    "strike = 0\n",
    "print_in_style(\"\".join(userguess))\n",
    "while True:\n",
    "    c = input()\n",
    "    if c in secret:\n",
    "        # check position and fill the user letter in userguess\n",
    "        fill_function(c,secret,userguess)\n",
    "        #print(len(userguess))\n",
    "        #clear_output(wait=True)\n",
    "        print_in_style(\"\".join(userguess))\n",
    "    else:\n",
    "        strike += 1\n",
    "        print(\" Strike: \", strike)\n",
    "    if match(secret, userguess) == 1:\n",
    "        print(\"\\nNice job!\")\n",
    "        break\n",
    "    if (strike > 6):\n",
    "        print(\"\\nStrike 6, Game over !\")\n",
    "        break"
   ]
  },
  {
   "cell_type": "code",
   "execution_count": null,
   "metadata": {},
   "outputs": [],
   "source": []
  },
  {
   "cell_type": "code",
   "execution_count": null,
   "metadata": {},
   "outputs": [],
   "source": []
  }
 ],
 "metadata": {
  "kernelspec": {
   "display_name": "Python 3",
   "language": "python",
   "name": "python3"
  },
  "language_info": {
   "codemirror_mode": {
    "name": "ipython",
    "version": 3
   },
   "file_extension": ".py",
   "mimetype": "text/x-python",
   "name": "python",
   "nbconvert_exporter": "python",
   "pygments_lexer": "ipython3",
   "version": "3.7.6"
  }
 },
 "nbformat": 4,
 "nbformat_minor": 4
}
